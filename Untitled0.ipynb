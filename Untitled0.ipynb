{
  "nbformat": 4,
  "nbformat_minor": 0,
  "metadata": {
    "colab": {
      "provenance": []
    },
    "kernelspec": {
      "name": "python3",
      "display_name": "Python 3"
    },
    "language_info": {
      "name": "python"
    }
  },
  "cells": [
    {
      "cell_type": "code",
      "execution_count": null,
      "metadata": {
        "colab": {
          "base_uri": "https://localhost:8080/"
        },
        "id": "2uuaOOHDMh_L",
        "outputId": "c07bfda4-e118-4404-b18a-dae22de6038e"
      },
      "outputs": [
        {
          "output_type": "stream",
          "name": "stdout",
          "text": [
            "I\n",
            "l\n",
            "n\n"
          ]
        }
      ],
      "source": [
        "text=\"I live in london\"\n",
        "print(text[0])\n",
        "print(text[2])\n",
        "print(text[-1])\n"
      ]
    },
    {
      "cell_type": "code",
      "source": [
        "text=\"I live in london\"\n",
        "print(text[0:7])\n"
      ],
      "metadata": {
        "colab": {
          "base_uri": "https://localhost:8080/"
        },
        "id": "oPt1C_3ZM9QJ",
        "outputId": "034b6b11-5daf-45bc-c1f1-5267d9d9e9a4"
      },
      "execution_count": null,
      "outputs": [
        {
          "output_type": "stream",
          "name": "stdout",
          "text": [
            "I live \n"
          ]
        }
      ]
    },
    {
      "cell_type": "code",
      "source": [
        "text=\"Londres, la capitale de l'Angleterre et du Royaume-Uni, est une ville moderne dont l'histoire remonte à l'époque romaine\"\n",
        "print(len(text))"
      ],
      "metadata": {
        "colab": {
          "base_uri": "https://localhost:8080/"
        },
        "id": "HLwUIIUjNjDo",
        "outputId": "94f77cc1-cfd1-445e-ee67-04446133ccf4"
      },
      "execution_count": null,
      "outputs": [
        {
          "output_type": "stream",
          "name": "stdout",
          "text": [
            "120\n"
          ]
        }
      ]
    },
    {
      "cell_type": "code",
      "source": [
        "text=\"Londres, la capitale de l'Angleterre et du Royaume-Uni, est une ville moderne dont l'histoire remonte à l'époque romaine\"\n",
        "print(text[26:36])\n",
        "print(text[-14:-7])"
      ],
      "metadata": {
        "colab": {
          "base_uri": "https://localhost:8080/"
        },
        "id": "U1ZaFlS_OJ5P",
        "outputId": "480a03ea-f535-48ad-9776-84d5a467cf3f"
      },
      "execution_count": null,
      "outputs": [
        {
          "output_type": "stream",
          "name": "stdout",
          "text": [
            "Angleterre\n",
            "époque \n"
          ]
        }
      ]
    },
    {
      "cell_type": "code",
      "source": [
        "text=input(\"where are you from ?\")\n",
        "if text[0]==\"L\":\n",
        "  print(\"capital L\")\n",
        "else:\n",
        "  print(\"something else\")\n",
        "\n",
        "if text[-1]==\".\":\n",
        "  print(\"there is a dot\")\n",
        "else :\n",
        "  print(\"no dot!\")"
      ],
      "metadata": {
        "colab": {
          "base_uri": "https://localhost:8080/"
        },
        "id": "_37X1WoHPDqD",
        "outputId": "18adefa7-2be1-486f-d9a3-22ca2e13652e"
      },
      "execution_count": null,
      "outputs": [
        {
          "output_type": "stream",
          "name": "stdout",
          "text": [
            "where are you from ?London\n",
            "capital L\n",
            "no dot!\n"
          ]
        }
      ]
    }
  ]
}